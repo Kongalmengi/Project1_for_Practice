{
 "cells": [
  {
   "cell_type": "code",
   "execution_count": 1,
   "id": "ea281d21-adb6-4f69-886f-080f73fa5372",
   "metadata": {},
   "outputs": [],
   "source": [
    "## 함수선언부\n",
    "def add_func(n1, n2) :\n",
    "    result = n1 + n2\n",
    "    return result\n",
    "\n",
    "def sub_func(n1, n2) :\n",
    "    result = n1 - n2\n",
    "    return result\n",
    "\n",
    "def sub_func(n1, n2) :\n",
    "    result = n1 * n2\n",
    "    return result\n",
    "\n",
    "def sub_func(n1, n2) :\n",
    "    result = n1 / n2\n",
    "    return result"
   ]
  },
  {
   "cell_type": "code",
   "execution_count": 2,
   "id": "de8ed180-1689-4216-9d00-d4d5c7ca3b20",
   "metadata": {},
   "outputs": [],
   "source": [
    "## 전역 변수부\n",
    "num1, num2 = 100, 200\n",
    "res = 0"
   ]
  },
  {
   "cell_type": "code",
   "execution_count": null,
   "id": "8a2347ad-4e6e-429d-b989-d9df2b86a77f",
   "metadata": {},
   "outputs": [
    {
     "name": "stdout",
     "output_type": "stream",
     "text": [
      "100 + 200 = 300\n"
     ]
    }
   ],
   "source": [
    "## 메인 코드부\n",
    "res = add_func(num1, num2)\n",
    "print(num1, '+', num2, '=', res)\n",
    "\n",
    "res = sub_func(num1, num2)\n",
    "print(num1, '-', num2, '=', res)\n",
    "\n",
    "res = sub_func(num1, num2)\n",
    "print(num1, '*', num2, '=', res)\n",
    "\n",
    "res = sub_func(num1, num2)\n",
    "print(num1, '/', num2, '=', res)"
   ]
  }
 ],
 "metadata": {
  "kernelspec": {
   "display_name": "Python 3 (ipykernel)",
   "language": "python",
   "name": "python3"
  },
  "language_info": {
   "codemirror_mode": {
    "name": "ipython",
    "version": 3
   },
   "file_extension": ".py",
   "mimetype": "text/x-python",
   "name": "python",
   "nbconvert_exporter": "python",
   "pygments_lexer": "ipython3",
   "version": "3.12.1"
  }
 },
 "nbformat": 4,
 "nbformat_minor": 5
}
